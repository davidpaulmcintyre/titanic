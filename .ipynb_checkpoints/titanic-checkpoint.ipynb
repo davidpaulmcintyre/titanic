{
 "cells": [
  {
   "cell_type": "code",
   "execution_count": 5,
   "metadata": {},
   "outputs": [],
   "source": [
    "import pandas as pd\n",
    "import numpy as np\n",
    "import sys \n",
    "from sklearn.ensemble import RandomForestClassifier\n",
    "from sklearn.model_selection import train_test_split \n",
    "# from sklearn.preprocessing import LabelEncoder \n",
    "from sklearn.preprocessing import OneHotEncoder\n",
    "from sklearn import metrics\n",
    "from sklearn.metrics import confusion_matrix "
   ]
  },
  {
   "cell_type": "code",
   "execution_count": 6,
   "metadata": {},
   "outputs": [],
   "source": [
    "\n",
    "    \n",
    "def get_marital_status(row):\n",
    "    if row.Sex == 'female':\n",
    "        return ('Mrs.' in row.Name) | ('Mme.' in row.Name)\n",
    "    \n",
    "def get_deck_from_cabin(cabin):\n",
    "    if len(cabin) > 0:\n",
    "        deck = cabin[:1]\n",
    "        decks = {\"A\": 1, \"B\": 2, \"C\": 3, \"D\": 4, \"E\": 5, \"F\": 6, \"G\": 7, \"O\": 8, \"T\": 9, \"U\": 10}\n",
    "        return decks[deck]\n",
    "\n",
    "def get_dataframe(file_name):\n",
    "    print('Filename: ', file_name)\n",
    "    df = pd.read_csv(file_name) \n",
    "    df.Name.apply(str)\n",
    "    df['Married'] = df.apply(get_marital_status, axis=1)\n",
    "    df.Married = df.Married.astype('bool')\n",
    "    df['LastName'] = df.Name.apply(lambda name: name.split(', ')[0])\n",
    "#     df.Cabin = df.Cabin.fillna('U0')\n",
    "#     deck prob has too many unknown values to be useful\n",
    "#     df['Deck'] = df.Cabin.apply(get_deck_from_cabin)\n",
    "    genders = { 'male': 0, 'female': 1}\n",
    "    df.Sex.replace(genders, inplace=True)  \n",
    "    df['Relatives'] = df.Parch + df.SibSp\n",
    "    return df\n",
    "\n",
    "def encode_columns(df):   \n",
    "    object_cols = ['Pclass',  'LastName']\n",
    "    df_copy = df.copy()\n",
    "    df_copy.Age = df_copy.Age.fillna(df_copy.Age.mean()).astype(int) \n",
    "    \n",
    "#     categorical cols\n",
    "    encoder = OneHotEncoder(handle_unknown='ignore', sparse=False)\n",
    "    cols_df = pd.DataFrame(encoder.fit_transform(df_copy[object_cols])) \n",
    "\n",
    "    # One-hot encoding removed index; put it back\n",
    "    cols_df.index = df_copy.index \n",
    "\n",
    "    # Remove categorical columns (will replace with one-hot encoding)\n",
    "    num_X_df = df_copy.drop(object_cols, axis=1) \n",
    "\n",
    "    # Add one-hot encoded columns to numerical features\n",
    "    OH_df = pd.concat([num_X_df, cols_df], axis=1) \n",
    "    return OH_df \n",
    "\n",
    "def get_model(df): \n",
    "    columns = ['Pclass', 'Sex',  'LastName', 'Age']\n",
    "    X = df[columns]  \n",
    "    y = df['Survived']   \n",
    "    OH_X = encode_columns(X) \n",
    "    clf = RandomForestClassifier()\n",
    "    # Split dataset into training set and test set \n",
    "    X_train, X_test, y_train, y_test = train_test_split(OH_X, y, test_size=0.3)  \n",
    "    clf.fit(X_train, y_train)\n",
    "    y_pred=clf.predict(X_test)\n",
    "    print(\"Accuracy:\", metrics.accuracy_score(y_test, y_pred))\n",
    "    \n",
    "def get_predictions(df_train, df_valid): \n",
    "#     Married, Cabin, Relatives, Deck not improve accuracy \n",
    "    df_train.Age = df_train.Age.fillna(df_train.Age.mean()).astype(int)\n",
    "    df_valid.Age = df_valid.Age.fillna(df_valid.Age.mean()).astype(int)\n",
    "    columns = ['Pclass', 'Sex',  'LastName', 'Age']\n",
    "    object_cols = ['Pclass',  'LastName']\n",
    "    X_train = df_train[columns]\n",
    "    X_valid = df_valid[columns]\n",
    "    y_train = df_train.Survived.astype('bool')\n",
    "    \n",
    "    OH_encoder = OneHotEncoder(handle_unknown='ignore', sparse=False)\n",
    "    OH_cols_train = pd.DataFrame(OH_encoder.fit_transform(X_train[object_cols]))\n",
    "    OH_cols_valid = pd.DataFrame(OH_encoder.transform(X_valid[object_cols]))\n",
    "\n",
    "    # One-hot encoding removed index; put it back\n",
    "    OH_cols_train.index = X_train.index\n",
    "    OH_cols_valid.index = X_valid.index\n",
    "\n",
    "    # Remove categorical columns (will replace with one-hot encoding)\n",
    "    num_X_train = X_train.drop(object_cols, axis=1)\n",
    "    num_X_valid = X_valid.drop(object_cols, axis=1)\n",
    "\n",
    "    # Add one-hot encoded columns to numerical features\n",
    "    OH_X_train = pd.concat([num_X_train, OH_cols_train], axis=1)\n",
    "    OH_X_valid = pd.concat([num_X_valid, OH_cols_valid], axis=1)\n",
    " \n",
    "    clf = RandomForestClassifier() \n",
    "    clf.fit(OH_X_train, y_train)\n",
    "    y_pred = clf.predict(OH_X_valid)\n",
    "    output=pd.DataFrame({'PassengerId': df_test['PassengerId'], 'Survived': y_pred})\n",
    "    output.Survived = output.Survived.astype(int)\n",
    "    return output"
   ]
  },
  {
   "cell_type": "code",
   "execution_count": 8,
   "metadata": {
    "scrolled": true
   },
   "outputs": [
    {
     "name": "stdout",
     "output_type": "stream",
     "text": [
      "Filename:  train.csv\n",
      "Accuracy: 0.8097014925373134\n",
      "Done\n"
     ]
    },
    {
     "name": "stderr",
     "output_type": "stream",
     "text": [
      "/usr/local/lib/python3.7/site-packages/sklearn/ensemble/forest.py:246: FutureWarning: The default value of n_estimators will change from 10 in version 0.20 to 100 in 0.22.\n",
      "  \"10 in version 0.20 to 100 in 0.22.\", FutureWarning)\n"
     ]
    }
   ],
   "source": [
    "get_model(get_dataframe('train.csv'))\n",
    "print('Done')"
   ]
  },
  {
   "cell_type": "code",
   "execution_count": 9,
   "metadata": {},
   "outputs": [
    {
     "name": "stdout",
     "output_type": "stream",
     "text": [
      "Filename:  train.csv\n",
      "Filename:  test.csv\n",
      "Done\n"
     ]
    },
    {
     "name": "stderr",
     "output_type": "stream",
     "text": [
      "/usr/local/lib/python3.7/site-packages/sklearn/ensemble/forest.py:246: FutureWarning: The default value of n_estimators will change from 10 in version 0.20 to 100 in 0.22.\n",
      "  \"10 in version 0.20 to 100 in 0.22.\", FutureWarning)\n"
     ]
    }
   ],
   "source": [
    "df_train = get_dataframe('train.csv')\n",
    "df_test = get_dataframe('test.csv')\n",
    "predictions = get_predictions(df_train, df_test).to_csv('submission.csv', index=False)\n",
    "print('Done')"
   ]
  },
  {
   "cell_type": "code",
   "execution_count": null,
   "metadata": {},
   "outputs": [],
   "source": []
  },
  {
   "cell_type": "code",
   "execution_count": null,
   "metadata": {},
   "outputs": [],
   "source": []
  },
  {
   "cell_type": "code",
   "execution_count": null,
   "metadata": {},
   "outputs": [],
   "source": []
  }
 ],
 "metadata": {
  "kernelspec": {
   "display_name": "Python 3",
   "language": "python",
   "name": "python3"
  },
  "language_info": {
   "codemirror_mode": {
    "name": "ipython",
    "version": 3
   },
   "file_extension": ".py",
   "mimetype": "text/x-python",
   "name": "python",
   "nbconvert_exporter": "python",
   "pygments_lexer": "ipython3",
   "version": "3.7.0"
  }
 },
 "nbformat": 4,
 "nbformat_minor": 2
}

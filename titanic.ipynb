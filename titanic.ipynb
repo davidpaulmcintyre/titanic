{
 "cells": [
  {
   "cell_type": "code",
   "execution_count": 1,
   "metadata": {},
   "outputs": [
    {
     "name": "stderr",
     "output_type": "stream",
     "text": [
      "Using TensorFlow backend.\n"
     ]
    }
   ],
   "source": [
    "import pandas as pd\n",
    "import numpy as np\n",
    "import sys \n",
    "from sklearn.ensemble import RandomForestClassifier\n",
    "from sklearn.linear_model import LogisticRegression\n",
    "from sklearn.naive_bayes import GaussianNB\n",
    "from sklearn.neighbors import KNeighborsClassifier\n",
    "from sklearn.model_selection import train_test_split\n",
    "from keras.utils import np_utils\n",
    "from sklearn.preprocessing import LabelEncoder\n",
    "from sklearn import metrics\n",
    "from sklearn.metrics import confusion_matrix "
   ]
  },
  {
   "cell_type": "code",
   "execution_count": 52,
   "metadata": {},
   "outputs": [],
   "source": [
    "\n",
    "    \n",
    "def get_marital_status(row):\n",
    "    if row.Sex == 'female':\n",
    "        return ('Mrs.' in row.Name) | ('Mme.' in row.Name)\n",
    "    \n",
    "def get_deck_from_cabin(cabin):\n",
    "    if len(cabin) > 0:\n",
    "        deck = cabin[:1]\n",
    "        decks = {\"A\": 1, \"B\": 2, \"C\": 3, \"D\": 4, \"E\": 5, \"F\": 6, \"G\": 7, \"O\": 8, \"T\": 9, \"U\": 10}\n",
    "        return decks[deck]\n",
    "\n",
    "def get_dataframe(file_name):\n",
    "    print('Filename: ', file_name)\n",
    "    df = pd.read_csv(file_name)\n",
    "    avg_age = df.Age.mean()\n",
    "    df.Age = df.Age.fillna(avg_age).astype(int)\n",
    "    df.Name.apply(str)\n",
    "    df['Married'] = df.apply(get_marital_status, axis=1)\n",
    "    df.Married = df.Married.astype('bool')\n",
    "    df['LastName'] = df.Name.apply(lambda name: name.split(', ')[0])\n",
    "    df.Cabin = df.Cabin.fillna('U0')\n",
    "#     deck prob has too many unknown values to be useful\n",
    "    df['Deck'] = df.Cabin.apply(get_deck_from_cabin)\n",
    "    genders = { 'male': 0, 'female': 1}\n",
    "    df.Sex.replace(genders, inplace=True) \n",
    "    encoder = LabelEncoder()\n",
    "    df['LastName'] = encoder.fit_transform(df['LastName']).astype(int)\n",
    "    df['Relatives'] = df.Parch + df.SibSp\n",
    "    return df\n",
    "    \n",
    "def get_predictions(df_train, df_test):\n",
    "#     Married, Cabin, Relatives, Deck not improve accuracy\n",
    "    columns = ['Pclass', 'Sex',  'LastName', 'Age']\n",
    "    X_train = df_train[columns]\n",
    "    df_train.Survived = df_train.Survived.astype('bool')\n",
    "    y_train = df_train['Survived']\n",
    "    X_test = df_test[columns]\n",
    "    clf = RandomForestClassifier()\n",
    "    clf.fit(X_train, y_train)\n",
    "    y_pred = clf.predict(X_test)\n",
    "    output=pd.DataFrame({'PassengerId': df_test['PassengerId'], 'Survived': y_pred})\n",
    "    output.Survived = output.Survived.astype(int)\n",
    "    return output"
   ]
  },
  {
   "cell_type": "code",
   "execution_count": 53,
   "metadata": {
    "scrolled": true
   },
   "outputs": [
    {
     "name": "stdout",
     "output_type": "stream",
     "text": [
      "Filename:  train.csv\n",
      "Filename:  test.csv\n",
      "Done\n"
     ]
    }
   ],
   "source": [
    "df_train = get_dataframe('train.csv')\n",
    "df_test = get_dataframe('test.csv')\n",
    "predictions = get_predictions(df_train, df_test).to_csv('submission.csv', index=False)\n",
    "print('Done')"
   ]
  },
  {
   "cell_type": "code",
   "execution_count": null,
   "metadata": {
    "collapsed": true
   },
   "outputs": [],
   "source": []
  },
  {
   "cell_type": "code",
   "execution_count": null,
   "metadata": {
    "collapsed": true
   },
   "outputs": [],
   "source": []
  },
  {
   "cell_type": "code",
   "execution_count": null,
   "metadata": {
    "collapsed": true
   },
   "outputs": [],
   "source": []
  },
  {
   "cell_type": "code",
   "execution_count": null,
   "metadata": {
    "collapsed": true
   },
   "outputs": [],
   "source": []
  },
  {
   "cell_type": "code",
   "execution_count": null,
   "metadata": {
    "collapsed": true
   },
   "outputs": [],
   "source": []
  }
 ],
 "metadata": {
  "kernelspec": {
   "display_name": "Python 3",
   "language": "python",
   "name": "python3"
  },
  "language_info": {
   "codemirror_mode": {
    "name": "ipython",
    "version": 3
   },
   "file_extension": ".py",
   "mimetype": "text/x-python",
   "name": "python",
   "nbconvert_exporter": "python",
   "pygments_lexer": "ipython3",
   "version": "3.6.3"
  }
 },
 "nbformat": 4,
 "nbformat_minor": 2
}
